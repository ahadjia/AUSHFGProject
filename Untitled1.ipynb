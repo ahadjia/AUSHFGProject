{
 "cells": [
  {
   "cell_type": "code",
   "execution_count": 1,
   "metadata": {},
   "outputs": [
    {
     "name": "stdout",
     "output_type": "stream",
     "text": [
      "Requirement already satisfied: pandas in c:\\users\\ahadjia\\anaconda3\\lib\\site-packages (1.0.1)\n",
      "Requirement already satisfied: numpy>=1.13.3 in c:\\users\\ahadjia\\anaconda3\\lib\\site-packages (from pandas) (1.18.1)\n",
      "Requirement already satisfied: python-dateutil>=2.6.1 in c:\\users\\ahadjia\\anaconda3\\lib\\site-packages (from pandas) (2.8.1)\n",
      "Requirement already satisfied: pytz>=2017.2 in c:\\users\\ahadjia\\anaconda3\\lib\\site-packages (from pandas) (2019.3)\n",
      "Requirement already satisfied: six>=1.5 in c:\\users\\ahadjia\\anaconda3\\lib\\site-packages (from python-dateutil>=2.6.1->pandas) (1.14.0)\n",
      "Note: you may need to restart the kernel to use updated packages.\n"
     ]
    }
   ],
   "source": [
    "pip install pandas"
   ]
  },
  {
   "cell_type": "code",
   "execution_count": 8,
   "metadata": {},
   "outputs": [
    {
     "name": "stdout",
     "output_type": "stream",
     "text": [
      "Requirement already satisfied: xlsxwriter in c:\\users\\ahadjia\\anaconda3\\lib\\site-packages (1.2.7)\n",
      "Note: you may need to restart the kernel to use updated packages.\n"
     ]
    }
   ],
   "source": [
    "pip install xlsxwriter"
   ]
  },
  {
   "cell_type": "code",
   "execution_count": 3,
   "metadata": {},
   "outputs": [],
   "source": [
    "import pandas as pd"
   ]
  },
  {
   "cell_type": "code",
   "execution_count": 4,
   "metadata": {},
   "outputs": [],
   "source": [
    "import os\n",
    "import xlsxwriter"
   ]
  },
  {
   "cell_type": "code",
   "execution_count": 408,
   "metadata": {},
   "outputs": [],
   "source": [
    "df = pd.read_excel(\"Z:/Projects/A2188 Campbelltown Hosp Stage 2/Cad Drawings/2.Architectural/Services Review/All Rooms Arch Drofus Dump/completedlist.xlsx\")"
   ]
  },
  {
   "cell_type": "code",
   "execution_count": null,
   "metadata": {},
   "outputs": [],
   "source": []
  },
  {
   "cell_type": "code",
   "execution_count": 410,
   "metadata": {},
   "outputs": [],
   "source": [
    "df.drop(columns = ['Column1', 'Comparison'], inplace = True)"
   ]
  },
  {
   "cell_type": "code",
   "execution_count": null,
   "metadata": {},
   "outputs": [],
   "source": []
  },
  {
   "cell_type": "code",
   "execution_count": 411,
   "metadata": {},
   "outputs": [],
   "source": [
    "dfRooms = df.drop_duplicates(subset=['Room Number:']).loc[:,['Levels','Room Number:','Room Name']]"
   ]
  },
  {
   "cell_type": "code",
   "execution_count": 169,
   "metadata": {},
   "outputs": [],
   "source": [
    "# dfRooms.to_excel('RoomList.xlsx')"
   ]
  },
  {
   "cell_type": "code",
   "execution_count": null,
   "metadata": {},
   "outputs": [],
   "source": []
  },
  {
   "cell_type": "code",
   "execution_count": 81,
   "metadata": {},
   "outputs": [
    {
     "data": {
      "text/plain": [
       "array(['MGAS-022', 'MGAS-042', 'MGAS-062', 'MGFP-001', 'MGAS-021',\n",
       "       'MGAS-031', 'MGAS-041', 'MGAS-051', 'MGAS-061', 'MGAS-043',\n",
       "       'MGAS-063', 'MGAS-032', 'MGAS-053', 'MGAS-023', 'MGAS-072',\n",
       "       'MGAS-052', 'MGAS-074', 'MGAS-080', 'MGFP-007', 'MGAS-033',\n",
       "       'MGAS-055', 'MGAS-040', 'MGAS-060', 'MGAS-006', 'MGAS-054'],\n",
       "      dtype=object)"
      ]
     },
     "execution_count": 81,
     "metadata": {},
     "output_type": "execute_result"
    }
   ],
   "source": [
    "# df['Item Number'].unique()"
   ]
  },
  {
   "cell_type": "code",
   "execution_count": 82,
   "metadata": {},
   "outputs": [],
   "source": [
    "levels = df.Levels.unique()"
   ]
  },
  {
   "cell_type": "code",
   "execution_count": 412,
   "metadata": {},
   "outputs": [],
   "source": []
  },
  {
   "cell_type": "code",
   "execution_count": null,
   "metadata": {},
   "outputs": [],
   "source": []
  },
  {
   "cell_type": "code",
   "execution_count": null,
   "metadata": {},
   "outputs": [],
   "source": []
  },
  {
   "cell_type": "code",
   "execution_count": null,
   "metadata": {},
   "outputs": [],
   "source": []
  },
  {
   "cell_type": "code",
   "execution_count": null,
   "metadata": {},
   "outputs": [],
   "source": []
  },
  {
   "cell_type": "code",
   "execution_count": null,
   "metadata": {},
   "outputs": [],
   "source": []
  },
  {
   "cell_type": "code",
   "execution_count": 329,
   "metadata": {},
   "outputs": [],
   "source": []
  },
  {
   "cell_type": "code",
   "execution_count": null,
   "metadata": {},
   "outputs": [],
   "source": []
  },
  {
   "cell_type": "code",
   "execution_count": 457,
   "metadata": {},
   "outputs": [],
   "source": [
    "def gen_list(length):\n",
    "    lst = []\n",
    "    for i in range(length):\n",
    "        lst.append('')\n",
    "    return lst\n",
    "\n",
    "# Create Dictionary of Unique Rooms\n",
    "room_dict = {}\n",
    "for index in range(0,len(df)):\n",
    "    room_dict[df['Room Number:'].loc[index]] = gen_list(len(dfMGAS))\n"
   ]
  },
  {
   "cell_type": "code",
   "execution_count": 417,
   "metadata": {},
   "outputs": [
    {
     "data": {
      "text/html": [
       "<div>\n",
       "<style scoped>\n",
       "    .dataframe tbody tr th:only-of-type {\n",
       "        vertical-align: middle;\n",
       "    }\n",
       "\n",
       "    .dataframe tbody tr th {\n",
       "        vertical-align: top;\n",
       "    }\n",
       "\n",
       "    .dataframe thead th {\n",
       "        text-align: right;\n",
       "    }\n",
       "</style>\n",
       "<table border=\"1\" class=\"dataframe\">\n",
       "  <thead>\n",
       "    <tr style=\"text-align: right;\">\n",
       "      <th></th>\n",
       "      <th>Levels</th>\n",
       "      <th>Room Number:</th>\n",
       "      <th>Room Name</th>\n",
       "    </tr>\n",
       "  </thead>\n",
       "  <tbody>\n",
       "    <tr>\n",
       "      <th>0</th>\n",
       "      <td>L00</td>\n",
       "      <td>00.11.005</td>\n",
       "      <td>Patient Bay - Non Acute Treatment</td>\n",
       "    </tr>\n",
       "    <tr>\n",
       "      <th>3</th>\n",
       "      <td>L00</td>\n",
       "      <td>00.11.007</td>\n",
       "      <td>Patient Bay - Non Acute Treatment</td>\n",
       "    </tr>\n",
       "    <tr>\n",
       "      <th>6</th>\n",
       "      <td>L00</td>\n",
       "      <td>00.11.009</td>\n",
       "      <td>Patient Bay - Non Acute Treatment</td>\n",
       "    </tr>\n",
       "    <tr>\n",
       "      <th>9</th>\n",
       "      <td>L00</td>\n",
       "      <td>00.11.012</td>\n",
       "      <td>Staff Station</td>\n",
       "    </tr>\n",
       "    <tr>\n",
       "      <th>10</th>\n",
       "      <td>L00</td>\n",
       "      <td>00.11.013</td>\n",
       "      <td>Patient Bay - Non Acute Treatment</td>\n",
       "    </tr>\n",
       "    <tr>\n",
       "      <th>...</th>\n",
       "      <td>...</td>\n",
       "      <td>...</td>\n",
       "      <td>...</td>\n",
       "    </tr>\n",
       "    <tr>\n",
       "      <th>2310</th>\n",
       "      <td>L10</td>\n",
       "      <td>10.54.084</td>\n",
       "      <td>Staff Station</td>\n",
       "    </tr>\n",
       "    <tr>\n",
       "      <th>2311</th>\n",
       "      <td>L10</td>\n",
       "      <td>10.54.085</td>\n",
       "      <td>1 Bed Room</td>\n",
       "    </tr>\n",
       "    <tr>\n",
       "      <th>2314</th>\n",
       "      <td>L10</td>\n",
       "      <td>10.54.087</td>\n",
       "      <td>1 Bed Room</td>\n",
       "    </tr>\n",
       "    <tr>\n",
       "      <th>2317</th>\n",
       "      <td>L10</td>\n",
       "      <td>10.54.089</td>\n",
       "      <td>1 Bed Room</td>\n",
       "    </tr>\n",
       "    <tr>\n",
       "      <th>2320</th>\n",
       "      <td>B01</td>\n",
       "      <td>NaN</td>\n",
       "      <td>Patient Bay - Holding, Bed</td>\n",
       "    </tr>\n",
       "  </tbody>\n",
       "</table>\n",
       "<p>728 rows × 3 columns</p>\n",
       "</div>"
      ],
      "text/plain": [
       "     Levels Room Number:                          Room Name\n",
       "0       L00    00.11.005  Patient Bay - Non Acute Treatment\n",
       "3       L00    00.11.007  Patient Bay - Non Acute Treatment\n",
       "6       L00    00.11.009  Patient Bay - Non Acute Treatment\n",
       "9       L00    00.11.012                      Staff Station\n",
       "10      L00    00.11.013  Patient Bay - Non Acute Treatment\n",
       "...     ...          ...                                ...\n",
       "2310    L10    10.54.084                      Staff Station\n",
       "2311    L10    10.54.085                         1 Bed Room\n",
       "2314    L10    10.54.087                         1 Bed Room\n",
       "2317    L10    10.54.089                         1 Bed Room\n",
       "2320    B01          NaN         Patient Bay - Holding, Bed\n",
       "\n",
       "[728 rows x 3 columns]"
      ]
     },
     "execution_count": 417,
     "metadata": {},
     "output_type": "execute_result"
    }
   ],
   "source": [
    "dfRooms"
   ]
  },
  {
   "cell_type": "code",
   "execution_count": 458,
   "metadata": {},
   "outputs": [],
   "source": [
    "\n",
    "\n",
    "#extract unique medical gas into new dataframe\n",
    "dfMGAS = df.drop_duplicates(subset=['Item Number']).loc[:,['Item Number', 'Name']]\n",
    "\n",
    "# Loop through unique rooms in room dictionary:\n",
    "for key in room_dict.keys():\n",
    "    # generate new array to adjust keys\n",
    "    row = gen_list(25)\n",
    "    # Loop through all rows within full dataframe for every single room and outlet:\n",
    "    for dfindex in range(0,len(df)):\n",
    "        # Only continue if the room number is equal to the current iterating unique room number\n",
    "        if df['Room Number:'].loc[index] == key:\n",
    "            # Check which Medical Gas outlet is in that room for the iterating unique room number\n",
    "            for MGASindex in range(1,len(dfMGAS)):\n",
    "                # Reset list to empty\n",
    "                temp1 = pd.DataFrame()\n",
    "                \n",
    "                # Try and locate the medical gas number within the current row for the iterating unique room number\n",
    "                try:\n",
    "                    # generate a temporary dataframe of the medical gas for the current room\n",
    "                    temp1 = df['Item Number'].str.contains(dfMGAS['Item Number'].loc[MGASindex-1]).loc[dfindex]\n",
    "                    # If the current dataframe exists enter loop:\n",
    "                    if temp1 == True:\n",
    "                        # Adjust the dictionary for the Medical Gas for the iterating unique room number\n",
    "                        row[MGASindex-1] = df[df['Item Number'].str.contains(str(dfMGAS['Item Number'].loc[MGASindex-1]))].loc[dfindex]['Amount']\n",
    "                except:\n",
    "                    pass\n",
    "    # Replace dictionary with new values for unique room number\n",
    "    room_dict[key] = row\n",
    "                \n",
    "            "
   ]
  },
  {
   "cell_type": "code",
   "execution_count": null,
   "metadata": {},
   "outputs": [],
   "source": [
    "room_dict"
   ]
  },
  {
   "cell_type": "code",
   "execution_count": 425,
   "metadata": {},
   "outputs": [
    {
     "data": {
      "text/plain": [
       "True"
      ]
     },
     "execution_count": 425,
     "metadata": {},
     "output_type": "execute_result"
    }
   ],
   "source": [
    "df['Item Number'].str.contains(dfMGAS['Item Number'].loc[0]).loc[0]"
   ]
  },
  {
   "cell_type": "code",
   "execution_count": 405,
   "metadata": {},
   "outputs": [
    {
     "data": {
      "text/plain": [
       "Levels                                                     L00\n",
       "Room Number:                                         00.11.005\n",
       "Room Name                    Patient Bay - Non Acute Treatment\n",
       "Item Number                                           MGAS-022\n",
       "Name               OUTLET: medical air (MA), on services panel\n",
       "Amount                                                       1\n",
       "Hoslab Comments              Matches AUShfg Template 31-3-2020\n",
       "Name: 0, dtype: object"
      ]
     },
     "execution_count": 405,
     "metadata": {},
     "output_type": "execute_result"
    }
   ],
   "source": [
    "df[df['Item Number'].str.contains(str(dfMGAS['Item Number'].loc[0]))].loc[0]"
   ]
  },
  {
   "cell_type": "code",
   "execution_count": 438,
   "metadata": {},
   "outputs": [],
   "source": [
    "df['Room Number:'].fillna('No Room Assigned yet', inplace = True)"
   ]
  },
  {
   "cell_type": "code",
   "execution_count": 362,
   "metadata": {},
   "outputs": [
    {
     "data": {
      "text/plain": [
       "[['MGAS-022', 'OUTLET: medical air (MA), on services panel', 0],\n",
       " ['MGAS-042', 'OUTLET: oxygen (O2), on services panel', 1],\n",
       " ['MGAS-062', 'OUTLET: suction, on services panel', 2],\n",
       " ['MGFP-001', 'ALARM PANEL: medical gases', 3],\n",
       " ['MGAS-021', 'OUTLET: medical air (MA), on pendant', 4],\n",
       " ['MGAS-031', 'OUTLET: nitrous oxide (N2O), on pendant', 5],\n",
       " ['MGAS-041', 'OUTLET: oxygen (O2), on pendant', 6],\n",
       " ['MGAS-051', 'OUTLET: scavenge, on pendant', 7],\n",
       " ['MGAS-061', 'OUTLET: suction, on pendant', 8],\n",
       " ['MGAS-043', 'OUTLET: oxygen (O2), wall mounted', 9],\n",
       " ['MGAS-063', 'OUTLET: suction, wall mounted', 10],\n",
       " ['MGAS-032', 'OUTLET: nitrous oxide (N2O), on services panel', 11],\n",
       " ['MGAS-053', 'OUTLET: scavenge, on services panel', 12],\n",
       " ['MGAS-023', 'OUTLET: medical air (MA), wall mounted', 13],\n",
       " ['MGAS-072', 'OUTLET: tool air, wall mounted', 14],\n",
       " ['MGAS-052', 'OUTLET: scavenge, on pendant, with adapter', 15],\n",
       " ['MGAS-074', 'OUTLET: tool air, on pendant', 16],\n",
       " ['MGAS-080', 'OUTLET: tourniquet air, with controls', 17],\n",
       " ['MGFP-007', nan, 18],\n",
       " ['MGAS-033', 'OUTLET: nitrous oxide (N2O), wall mounted', 19],\n",
       " ['MGAS-055', 'OUTLET: scavenge, wall mounted', 20],\n",
       " ['MGAS-040', 'OUTLET: oxygen (O2)', 21],\n",
       " ['MGAS-060', 'OUTLET: suction', 22],\n",
       " ['MGAS-006', 'OUTLET: compressed air', 23],\n",
       " ['MGAS-054', 'OUTLET: scavenge, on services panel, with adapter', 24]]"
      ]
     },
     "execution_count": 362,
     "metadata": {},
     "output_type": "execute_result"
    }
   ],
   "source": [
    "dfMGAS"
   ]
  },
  {
   "cell_type": "code",
   "execution_count": 428,
   "metadata": {},
   "outputs": [
    {
     "data": {
      "text/plain": [
       "'00.11.005'"
      ]
     },
     "execution_count": 428,
     "metadata": {},
     "output_type": "execute_result"
    }
   ],
   "source": [
    "df['Room Number:'].loc[index]"
   ]
  },
  {
   "cell_type": "code",
   "execution_count": 368,
   "metadata": {},
   "outputs": [
    {
     "name": "stdout",
     "output_type": "stream",
     "text": [
      "[['MGAS-022', 1], ['MGAS-042', 1], ['MGAS-062', 1]]\n",
      "[['MGAS-022', 1], ['MGAS-042', 1], ['MGAS-062', 1]]\n",
      "[['MGAS-022', 1], ['MGAS-042', 1], ['MGAS-062', 1]]\n",
      "[['MGFP-001', 1]]\n"
     ]
    }
   ],
   "source": [
    "for key in room_dict.keys():\n",
    "    test = df[df['Room Number:'].str.contains(key)]\n",
    "    test2 = test[['Item Number', 'Amount']].values.tolist()\n",
    "    print(test2)\n",
    "    for item in room_dict[key]:\n",
    "        pass"
   ]
  },
  {
   "cell_type": "code",
   "execution_count": null,
   "metadata": {},
   "outputs": [],
   "source": [
    "\n",
    "row = []\n",
    "\n",
    "\n",
    "for index , key in enumerate(room_dict.keys()):\n",
    "    test = df[df['Room Number:'].str.contains(key)]\n",
    "    \n",
    "    \n",
    "    test2 = test[['Item Number', 'Amount']].values.tolist()\n",
    "    print(test[['Item Number', 'Amount']].values.tolist())\n",
    "    for outlet in test2:\n",
    "        item, amount = outlet\n",
    "        for MGAS in dfMGAS:\n",
    "            itemn, _,_ = MGAS\n",
    "            if item == itemn:\n",
    "                row.append(amount)\n",
    "            else:\n",
    "                row.append('')\n",
    "                \n",
    "\n",
    "            "
   ]
  },
  {
   "cell_type": "code",
   "execution_count": null,
   "metadata": {},
   "outputs": [],
   "source": []
  },
  {
   "cell_type": "code",
   "execution_count": null,
   "metadata": {},
   "outputs": [],
   "source": []
  },
  {
   "cell_type": "code",
   "execution_count": null,
   "metadata": {},
   "outputs": [],
   "source": []
  },
  {
   "cell_type": "code",
   "execution_count": 327,
   "metadata": {},
   "outputs": [
    {
     "name": "stdout",
     "output_type": "stream",
     "text": [
      "MGAS-022\n",
      "MGAS-042\n",
      "MGAS-062\n",
      "MGAS-022\n",
      "MGAS-042\n",
      "MGAS-062\n",
      "MGAS-022\n",
      "MGAS-042\n",
      "MGAS-062\n",
      "MGFP-001\n"
     ]
    }
   ],
   "source": [
    "row = []\n",
    "dfcompleted = pd.DataFrame()\n",
    "unique_rooms = []\n",
    "for index in range(0,10):\n",
    "    # len(df)\n",
    "    subrow = []\n",
    "    for MGAS in range(1,len(dfMGAS)):\n",
    "        col = pd.DataFrame()\n",
    "        try:\n",
    "            col = df[df['Item Number'].str.contains(str(dfMGAS['Item Number'].loc[MGAS-1]))].loc[index]\n",
    "        except:\n",
    "            pass\n",
    "        if col.shape[0] == 0:\n",
    "            subrow.append(' ')\n",
    "            pass\n",
    "        else:\n",
    "            subrow.append(col['Amount'])\n",
    "#         amount = col['Amount']\n",
    "#         row.append(amount)\n",
    "#         print(amount)\n",
    "    row.append(subrow)\n",
    "    if index != len(df)-1:\n",
    "        if df['Room Number:'].loc[index] != df['Room Number:'].loc[index+1]:\n",
    "            #room = df['Room Number:'].loc[index]\n",
    "            #dfcompleted.append(room)\n",
    "            unique_rooms.append(row)\n",
    "            row = []"
   ]
  },
  {
   "cell_type": "code",
   "execution_count": null,
   "metadata": {},
   "outputs": [],
   "source": []
  },
  {
   "cell_type": "code",
   "execution_count": null,
   "metadata": {},
   "outputs": [],
   "source": []
  },
  {
   "cell_type": "code",
   "execution_count": null,
   "metadata": {},
   "outputs": [],
   "source": []
  },
  {
   "cell_type": "code",
   "execution_count": null,
   "metadata": {},
   "outputs": [],
   "source": []
  },
  {
   "cell_type": "code",
   "execution_count": null,
   "metadata": {},
   "outputs": [],
   "source": []
  },
  {
   "cell_type": "code",
   "execution_count": null,
   "metadata": {},
   "outputs": [],
   "source": []
  },
  {
   "cell_type": "code",
   "execution_count": null,
   "metadata": {},
   "outputs": [],
   "source": []
  },
  {
   "cell_type": "code",
   "execution_count": null,
   "metadata": {},
   "outputs": [],
   "source": []
  },
  {
   "cell_type": "code",
   "execution_count": null,
   "metadata": {},
   "outputs": [],
   "source": []
  },
  {
   "cell_type": "code",
   "execution_count": 7,
   "metadata": {},
   "outputs": [],
   "source": [
    "dflowcalc = pd.read_excel(\"H:/A2188 Flow Calc Rev 1.xlsx\",sheet_name=1,skiprows=1,usecols='A:AG')"
   ]
  },
  {
   "cell_type": "code",
   "execution_count": null,
   "metadata": {},
   "outputs": [],
   "source": [
    "class RoomClass:\n",
    "    def __init__(self, RoomNumber, ItemNumber, Row):\n",
    "        self.RoomNumber = df['Room Number'].loc[self.Row]\n",
    "        self.ItemNumber = df['Item Number'].loc[self.Row]\n",
    "    def UpdateList():\n",
    "        dfMGAS = df.drop_duplicates(subset=['Item Number']).loc[:,['Item Number', 'Name']]\n",
    "        dfMGAS.insert(2,\"Index\",RowIndex, True)\n",
    "    def OutletType(ItemNumber,Amount): \n",
    "        "
   ]
  },
  {
   "cell_type": "code",
   "execution_count": null,
   "metadata": {},
   "outputs": [],
   "source": [
    "ItemList = []\n",
    "Outlet = []\n",
    "for row in range(1,len(df)):\n",
    "    if df['Item Number'].loc[row] not in ItemList:\n",
    "        Outlet.append(df['Name'].loc[row],df.iloc[7,row])\n",
    "        ItemList.append(df['Item Number'].loc[row])"
   ]
  },
  {
   "cell_type": "code",
   "execution_count": 10,
   "metadata": {},
   "outputs": [
    {
     "data": {
      "text/plain": [
       "'00.11.005'"
      ]
     },
     "execution_count": 10,
     "metadata": {},
     "output_type": "execute_result"
    }
   ],
   "source": [
    "df['Room Number:'].loc[0]"
   ]
  },
  {
   "cell_type": "code",
   "execution_count": null,
   "metadata": {},
   "outputs": [],
   "source": [
    "dflowcalc.head()"
   ]
  },
  {
   "cell_type": "code",
   "execution_count": null,
   "metadata": {},
   "outputs": [],
   "source": [
    "dflowcalc.loc[1]"
   ]
  },
  {
   "cell_type": "code",
   "execution_count": 33,
   "metadata": {},
   "outputs": [],
   "source": [
    "default_row = dflowcalc.loc[1]"
   ]
  },
  {
   "cell_type": "code",
   "execution_count": 37,
   "metadata": {},
   "outputs": [
    {
     "data": {
      "text/plain": [
       "33"
      ]
     },
     "execution_count": 37,
     "metadata": {},
     "output_type": "execute_result"
    }
   ],
   "source": [
    "len(dflowcalc.loc[1])"
   ]
  },
  {
   "cell_type": "code",
   "execution_count": null,
   "metadata": {},
   "outputs": [],
   "source": []
  },
  {
   "cell_type": "code",
   "execution_count": null,
   "metadata": {},
   "outputs": [],
   "source": []
  },
  {
   "cell_type": "code",
   "execution_count": null,
   "metadata": {},
   "outputs": [],
   "source": []
  },
  {
   "cell_type": "code",
   "execution_count": null,
   "metadata": {},
   "outputs": [],
   "source": []
  }
 ],
 "metadata": {
  "kernelspec": {
   "display_name": "Python 3",
   "language": "python",
   "name": "python3"
  },
  "language_info": {
   "codemirror_mode": {
    "name": "ipython",
    "version": 3
   },
   "file_extension": ".py",
   "mimetype": "text/x-python",
   "name": "python",
   "nbconvert_exporter": "python",
   "pygments_lexer": "ipython3",
   "version": "3.7.6"
  }
 },
 "nbformat": 4,
 "nbformat_minor": 4
}
